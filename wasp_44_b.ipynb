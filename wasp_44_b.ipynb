{
 "cells": [
  {
   "cell_type": "markdown",
   "metadata": {},
   "source": [
    "#### STDLIB"
   ]
  },
  {
   "cell_type": "code",
   "execution_count": 57,
   "metadata": {
    "collapsed": false
   },
   "outputs": [],
   "source": [
    "from astropy.io import fits\n",
    "import numpy as np\n",
    "import matplotlib.pyplot as plt\n",
    "%matplotlib inline\n",
    "from astropy.table import Table\n",
    "from astropy.io import ascii\n",
    "from astropy import units as u\n",
    "from astropy.coordinates import SkyCoord\n",
    "\n",
    "data_path = '/Users/Alex/Desktop/APO/Q4JH03/UT161120/ARCTIC/'\n",
    "fits_name = 'wasp44b_end_i_24.'\n",
    "num_file = 597 - 478 + 1\n",
    "cat_name = 'wasp44b'\n",
    "\n",
    "def confirm_coords_txt(ra, dec, cat_ra, cat_dec, maxiter=6, tol=1e-6):\n",
    "    \"\"\"\n",
    "    Searches for object between two catalogues\n",
    "    by iteratively checking and reducing error \n",
    "    between coordinates until _one_ match is found.\n",
    "    \n",
    "    Assumes RA and Dec from primary catalogue are known, \n",
    "    and searches through secondary catalogue to find index\n",
    "    of object with same coordinates in second catalogue. \n",
    "    \"\"\"\n",
    "    i = 0\n",
    "    while i <= maxiter:\n",
    "        err = 10 ** -(1 + i) # start with 0.1 'just to be safe'\n",
    "        selection = (abs(cat_ra - ra) <= err) & (abs(cat_dec - dec) <= err) # use RAdeg, DECdeg\n",
    "        matches = cat_ra[selection]\n",
    "        if len(matches) == 1:\n",
    "            return np.where(cat_ra == matches[0]) # index according to catalogue; remember to subtract by 1 for python!\n",
    "            break\n",
    "        elif err <= tol:\n",
    "            print 'Could not find match'\n",
    "            break\n",
    "        i += 1"
   ]
  },
  {
   "cell_type": "markdown",
   "metadata": {},
   "source": [
    "#### Find target and refstars"
   ]
  },
  {
   "cell_type": "code",
   "execution_count": 65,
   "metadata": {
    "collapsed": false
   },
   "outputs": [],
   "source": [
    "target_mag, ref1_mag, ref2_mag, ref3_mag, ref4_mag, ref5_mag, ref6_mag,\\\n",
    "ref7_mag, ref8_mag, ref9_mag, ref10_mag = np.zeros(num_file), np.zeros(num_file), np.zeros(num_file), np.zeros(num_file), np.zeros(num_file),\\\n",
    "np.zeros(num_file), np.zeros(num_file), np.zeros(num_file), np.zeros(num_file), np.zeros(num_file), np.zeros(num_file)\n",
    "\n",
    "target_magerr, ref1_magerr, ref2_magerr, ref3_magerr, ref4_magerr, ref5_magerr, ref6_magerr,\\\n",
    "ref7_magerr, ref8_magerr, ref9_magerr, ref10_magerr = np.zeros(num_file), np.zeros(num_file), np.zeros(num_file), np.zeros(num_file), np.zeros(num_file),\\\n",
    "np.zeros(num_file), np.zeros(num_file), np.zeros(num_file), np.zeros(num_file), np.zeros(num_file), np.zeros(num_file)\n",
    "\n",
    "target_coord = SkyCoord('00 15 37 -11 56 20', unit=(u.hourangle, u.deg)).to_string('decimal').split()\n",
    "target_ra, target_dec = float(target_coord[0]), float(target_coord[1])\n",
    "\n",
    "for n in range(478, 598):\n",
    "    mag, magerr, ra, dec = np.loadtxt(data_path + cat_name + str(n) + '.cat', skiprows=9, usecols=(3, 4, 7, 8), unpack=True)\n",
    "    \n",
    "    target_index = confirm_coords_txt(target_ra, target_dec, ra, dec)\n",
    "    target_mag[n - 478], target_magerr[n - 478] = mag[target_index], magerr[target_index]\n",
    "    \n",
    "    \n",
    "\n"
   ]
  },
  {
   "cell_type": "code",
   "execution_count": 70,
   "metadata": {
    "collapsed": false
   },
   "outputs": [
    {
     "data": {
      "image/png": "[encoded data removed]",
      "text/plain": [
       "<matplotlib.figure.Figure at 0x10c1ca7d0>"
      ]
     },
     "metadata": {},
     "output_type": "display_data"
    }
   ],
   "source": [
    "plt.errorbar(range(0, num_file), target_mag, yerr=[target_magerr, target_magerr], linestyle='None', marker='o')\n",
    "plt.show()"
   ]
  },
  {
   "cell_type": "code",
   "execution_count": null,
   "metadata": {
    "collapsed": true
   },
   "outputs": [],
   "source": []
  }
 ],
 "metadata": {
  "kernelspec": {
   "display_name": "Python 2",
   "language": "python",
   "name": "python2"
  },
  "language_info": {
   "codemirror_mode": {
    "name": "ipython",
    "version": 2
   },
   "file_extension": ".py",
   "mimetype": "text/x-python",
   "name": "python",
   "nbconvert_exporter": "python",
   "pygments_lexer": "ipython2",
   "version": "2.7.9"
  }
 },
 "nbformat": 4,
 "nbformat_minor": 0
}
